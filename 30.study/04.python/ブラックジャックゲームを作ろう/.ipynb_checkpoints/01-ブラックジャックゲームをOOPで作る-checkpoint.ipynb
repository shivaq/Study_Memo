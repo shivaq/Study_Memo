{
 "cells": [
  {
   "cell_type": "markdown",
   "metadata": {},
   "source": [
    "# Milestone Project 2 - Blackjack Game\n",
    "要件\n",
    "\n",
    "* テキストベースのブラックジャックゲームを作成 [BlackJack](https://en.wikipedia.org/wiki/Blackjack)\n",
    "* ゲームにはプレーヤー一人と、自動ディーラー一人が必要\n",
    "* プレーヤーができるのはは stand もしくは hit。\n",
    "* プレーヤーは掛け金を選ぶことができる。\n",
    "* プレーヤーの持ち金を keep track する。\n",
    "* プレーヤーが買ったか、負けたか、busts か、などなど結果をアラート表示する。\n",
    "\n",
    "And most importantly:\n",
    "\n",
    "* **You must use OOP and classes in some portion of your game. You can not just use functions in your game. Use classes to help you define the Deck and the Player's hand. There are many right ways to do this, so explore it well!**\n",
    "\n",
    "\n",
    "Feel free to expand this game. Try including multiple players. Try adding in Double-Down and card splits! Remember to you are free to use any resources you want and as always:\n",
    "\n",
    "# HAVE FUN!"
   ]
  }
 ],
 "metadata": {
  "kernelspec": {
   "display_name": "Python 3",
   "language": "python",
   "name": "python3"
  },
  "language_info": {
   "codemirror_mode": {
    "name": "ipython",
    "version": 3
   },
   "file_extension": ".py",
   "mimetype": "text/x-python",
   "name": "python",
   "nbconvert_exporter": "python",
   "pygments_lexer": "ipython3",
   "version": "3.6.4"
  }
 },
 "nbformat": 4,
 "nbformat_minor": 1
}
