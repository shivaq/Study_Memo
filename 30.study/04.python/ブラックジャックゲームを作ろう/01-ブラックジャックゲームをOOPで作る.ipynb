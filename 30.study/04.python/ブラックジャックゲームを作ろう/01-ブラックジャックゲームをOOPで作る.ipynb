{
 "cells": [
  {
   "cell_type": "markdown",
   "metadata": {},
   "source": [
    "# Milestone Project 2 - Blackjack Game\n",
    "要件\n",
    "\n",
    "* テキストベースのブラックジャックゲームを作成 [BlackJack](https://en.wikipedia.org/wiki/Blackjack)\n",
    "* ゲームにはプレーヤー一人と、自動ディーラー一人が必要\n",
    "* プレーヤーができるのはは stand もしくは hit。\n",
    "* プレーヤーは掛け金を選ぶことができる。\n",
    "* プレーヤーの持ち金を keep track する。\n",
    "* プレーヤーが買ったか、負けたか、busts か、などなど結果をアラート表示する。\n",
    "\n",
    "* ** OOP 及びクラスを使う。Deck と Player を表すクラスを。**"
   ]
  },
  {
   "cell_type": "code",
   "execution_count": null,
   "metadata": {},
   "outputs": [],
   "source": []
  }
 ],
 "metadata": {
  "kernelspec": {
   "display_name": "Python 3",
   "language": "python",
   "name": "python3"
  },
  "language_info": {
   "codemirror_mode": {
    "name": "ipython",
    "version": 3
   },
   "file_extension": ".py",
   "mimetype": "text/x-python",
   "name": "python",
   "nbconvert_exporter": "python",
   "pygments_lexer": "ipython3",
   "version": "3.6.4"
  }
 },
 "nbformat": 4,
 "nbformat_minor": 1
}
