{
 "cells": [
  {
   "cell_type": "markdown",
   "metadata": {},
   "source": [
    "## 同一階層でのモジュール連携"
   ]
  },
  {
   "cell_type": "code",
   "execution_count": 8,
   "metadata": {},
   "outputs": [
    {
     "name": "stdout",
     "output_type": "stream",
     "text": [
      "Overwriting createEvenNum.py\n"
     ]
    }
   ],
   "source": [
    "%%writefile createEvenNum.py\n",
    "# %%writefile は、ipython のマジックコマンド。セルのコンテンツをファイルに書き込む。\n",
    "\n",
    "# 0 から 引数の値までの数値のうち、偶数の数値を生成\n",
    "def createEvenNum(x):\n",
    "    return [num for num in range(x) if num%2==0]\n",
    "\n",
    "# 生成された数値は List 形式になる\n",
    "evenNumList = createEvenNum(15)"
   ]
  },
  {
   "cell_type": "code",
   "execution_count": 9,
   "metadata": {},
   "outputs": [
    {
     "name": "stdout",
     "output_type": "stream",
     "text": [
      "Overwriting useImportedModule.py\n"
     ]
    }
   ],
   "source": [
    "%%writefile useImportedModule.py\n",
    "\n",
    "import createEvenNum\n",
    "\n",
    "# List に 引数の数値を追加\n",
    "createEvenNum.evenNumList.append(12)\n",
    "print(createEvenNum.evenNumList)"
   ]
  },
  {
   "cell_type": "code",
   "execution_count": 3,
   "metadata": {},
   "outputs": [
    {
     "name": "stdout",
     "output_type": "stream",
     "text": [
      "[0, 2, 4, 6, 8, 10, 12, 14, 12]\n"
     ]
    }
   ],
   "source": [
    "#  ! は、Jupyter 固有の、セル内からコマンドラインステートメントを走らせるしるし。\n",
    "! python useImportedModule.py"
   ]
  },
  {
   "cell_type": "code",
   "execution_count": 5,
   "metadata": {},
   "outputs": [
    {
     "name": "stdout",
     "output_type": "stream",
     "text": [
      "[0, 2, 4, 6, 8, 10, 12, 14]\n"
     ]
    }
   ],
   "source": [
    "import createEvenNum\n",
    "\n",
    "# useImportedModule.py の処理時に参照されたが、createEvenNum.py 自体は編集されていない。\n",
    "print(createEvenNum.evenNumList)"
   ]
  },
  {
   "cell_type": "code",
   "execution_count": null,
   "metadata": {},
   "outputs": [],
   "source": []
  }
 ],
 "metadata": {
  "kernelspec": {
   "display_name": "Python 3",
   "language": "python",
   "name": "python3"
  },
  "language_info": {
   "codemirror_mode": {
    "name": "ipython",
    "version": 3
   },
   "file_extension": ".py",
   "mimetype": "text/x-python",
   "name": "python",
   "nbconvert_exporter": "python",
   "pygments_lexer": "ipython3",
   "version": "3.6.4"
  }
 },
 "nbformat": 4,
 "nbformat_minor": 2
}
